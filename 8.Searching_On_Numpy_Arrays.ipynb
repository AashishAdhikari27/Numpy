{
 "cells": [
  {
   "cell_type": "markdown",
   "id": "d830245f",
   "metadata": {},
   "source": [
    "# Searching"
   ]
  },
  {
   "cell_type": "code",
   "execution_count": 1,
   "id": "59429a9d",
   "metadata": {},
   "outputs": [],
   "source": [
    "import numpy as np "
   ]
  },
  {
   "cell_type": "code",
   "execution_count": 8,
   "id": "f1f032bf",
   "metadata": {},
   "outputs": [
    {
     "name": "stdout",
     "output_type": "stream",
     "text": [
      "[ 1  2  3  4  5  6  7  8  9 10  3]\n",
      "(array([ 2, 10]),)\n",
      "[ 2 10]\n",
      "[3 3]\n"
     ]
    }
   ],
   "source": [
    "np1 = np.array([1,2,3,4,5,6,7,8,9,10,3])\n",
    "\n",
    "print(np1)\n",
    " \n",
    "# Using where method\n",
    "\n",
    "x = np.where(np1 == 3)\n",
    "print(x)\n",
    "\n",
    "# where retrurns a tuple ,gives the index no of the data found\n",
    "\n",
    "print(x[0])\n",
    "\n",
    "print(np1[x[0]]) # returns the data "
   ]
  },
  {
   "cell_type": "code",
   "execution_count": 14,
   "id": "497bf880",
   "metadata": {},
   "outputs": [
    {
     "name": "stdout",
     "output_type": "stream",
     "text": [
      "[ 1  2  3  4  5  6  7  8  9 10  3]\n",
      "(array([1, 3, 5, 7, 9]),)\n"
     ]
    }
   ],
   "source": [
    "# to return even numbers\n",
    "\n",
    "y = np.where( np1 % 2 == 0)\n",
    "print(np1)\n",
    "print(y) # gives the indexes of even numbers"
   ]
  },
  {
   "cell_type": "code",
   "execution_count": null,
   "id": "0d889197",
   "metadata": {},
   "outputs": [],
   "source": []
  }
 ],
 "metadata": {
  "kernelspec": {
   "display_name": "Python 3 (ipykernel)",
   "language": "python",
   "name": "python3"
  },
  "language_info": {
   "codemirror_mode": {
    "name": "ipython",
    "version": 3
   },
   "file_extension": ".py",
   "mimetype": "text/x-python",
   "name": "python",
   "nbconvert_exporter": "python",
   "pygments_lexer": "ipython3",
   "version": "3.10.6"
  }
 },
 "nbformat": 4,
 "nbformat_minor": 5
}
