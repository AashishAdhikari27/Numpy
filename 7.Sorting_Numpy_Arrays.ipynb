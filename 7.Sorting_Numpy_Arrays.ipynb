{
 "cells": [
  {
   "cell_type": "markdown",
   "id": "c3151610",
   "metadata": {},
   "source": [
    "# Sorting Numpy Array"
   ]
  },
  {
   "cell_type": "code",
   "execution_count": 1,
   "id": "caeb74c0",
   "metadata": {},
   "outputs": [],
   "source": [
    "import numpy as np"
   ]
  },
  {
   "cell_type": "code",
   "execution_count": 2,
   "id": "c3c729b0",
   "metadata": {},
   "outputs": [
    {
     "name": "stdout",
     "output_type": "stream",
     "text": [
      "[ 2  7  4  0  8 16]\n",
      "[ 0  2  4  7  8 16]\n"
     ]
    }
   ],
   "source": [
    "# Numerial sorting\n",
    "\n",
    "np1 = np.array([2,7,4,0,8,16])\n",
    "\n",
    "print(np1)\n",
    "\n",
    "print(np.sort(np1))  # sorts in ascending order"
   ]
  },
  {
   "cell_type": "code",
   "execution_count": 3,
   "id": "a9eea05b",
   "metadata": {},
   "outputs": [
    {
     "name": "stdout",
     "output_type": "stream",
     "text": [
      "['john' 'hari' 'shyam' 'ram' 'gita' 'sita']\n",
      "['gita' 'hari' 'john' 'ram' 'shyam' 'sita']\n"
     ]
    }
   ],
   "source": [
    "# Alphabetical sorting\n",
    "\n",
    "np2 = np.array([\"john\",\"hari\",\"shyam\",\"ram\",\"gita\",\"sita\"])\n",
    "\n",
    "print(np2)\n",
    "\n",
    "print(np.sort(np2))  "
   ]
  },
  {
   "cell_type": "code",
   "execution_count": 4,
   "id": "f8beedbd",
   "metadata": {},
   "outputs": [
    {
     "name": "stdout",
     "output_type": "stream",
     "text": [
      "[ True False False  True]\n",
      "[False False  True  True]\n"
     ]
    }
   ],
   "source": [
    "# Boolean sorting\n",
    "\n",
    "np3 = np.array([True,False,False,True])\n",
    "\n",
    "print(np3)\n",
    "\n",
    "print(np.sort(np3))  "
   ]
  },
  {
   "cell_type": "code",
   "execution_count": 6,
   "id": "be33b184",
   "metadata": {},
   "outputs": [
    {
     "name": "stdout",
     "output_type": "stream",
     "text": [
      "[[9 3 5 2]\n",
      " [2 7 5 3]]\n",
      "[[2 3 5 9]\n",
      " [2 3 5 7]]\n"
     ]
    }
   ],
   "source": [
    "# 2-D array sorting\n",
    "\n",
    "np4 = np.array([[9,3,5,2],[2,7,5,3]])\n",
    "\n",
    "print(np4)\n",
    "\n",
    "print(np.sort(np4))  # individual elements inside each rows are sorted"
   ]
  },
  {
   "cell_type": "code",
   "execution_count": null,
   "id": "f599b238",
   "metadata": {},
   "outputs": [],
   "source": []
  }
 ],
 "metadata": {
  "kernelspec": {
   "display_name": "Python 3 (ipykernel)",
   "language": "python",
   "name": "python3"
  },
  "language_info": {
   "codemirror_mode": {
    "name": "ipython",
    "version": 3
   },
   "file_extension": ".py",
   "mimetype": "text/x-python",
   "name": "python",
   "nbconvert_exporter": "python",
   "pygments_lexer": "ipython3",
   "version": "3.10.6"
  }
 },
 "nbformat": 4,
 "nbformat_minor": 5
}
