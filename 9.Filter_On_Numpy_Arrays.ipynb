{
 "cells": [
  {
   "cell_type": "markdown",
   "id": "8609b117",
   "metadata": {},
   "source": [
    "# Filtering Numpy Arrays"
   ]
  },
  {
   "cell_type": "code",
   "execution_count": 1,
   "id": "126529dc",
   "metadata": {},
   "outputs": [],
   "source": [
    "import numpy as np"
   ]
  },
  {
   "cell_type": "code",
   "execution_count": 2,
   "id": "44cf57c7",
   "metadata": {},
   "outputs": [
    {
     "name": "stdout",
     "output_type": "stream",
     "text": [
      "[ 1  2  3  4  5  6  7  8  9 10]\n",
      "[1 2]\n"
     ]
    }
   ],
   "source": [
    "# filtering numpy arrays with Boolean index lists\n",
    "\n",
    "np1 = np.array([1,2,3,4,5,6,7,8,9,10])\n",
    "x = [True,True,False,False,False,False,False,False,False,False]\n",
    "\n",
    "print(np1)\n",
    "print(np1[x])"
   ]
  },
  {
   "cell_type": "code",
   "execution_count": 3,
   "id": "905cf381",
   "metadata": {},
   "outputs": [
    {
     "name": "stdout",
     "output_type": "stream",
     "text": [
      "[ 1  2  3  4  5  6  7  8  9 10]\n",
      "[False, True, False, True, False, True, False, True, False, True]\n",
      "[ 2  4  6  8 10]\n"
     ]
    }
   ],
   "source": [
    "filtered = []\n",
    "\n",
    "for thing in np1:\n",
    "    if thing % 2==0:\n",
    "        filtered.append(True)\n",
    "    else :\n",
    "        filtered.append(False)\n",
    "        \n",
    "        \n",
    "print(np1)\n",
    "\n",
    "print(filtered)\n",
    "\n",
    "print(np1[filtered])"
   ]
  },
  {
   "cell_type": "code",
   "execution_count": 4,
   "id": "b2234aa1",
   "metadata": {},
   "outputs": [
    {
     "name": "stdout",
     "output_type": "stream",
     "text": [
      "[ 1  2  3  4  5  6  7  8  9 10]\n",
      "[False  True False  True False  True False  True False  True]\n",
      "[ 2  4  6  8 10]\n"
     ]
    }
   ],
   "source": [
    "# Shortcut\n",
    "\n",
    "filter = np1 % 2 == 0\n",
    "\n",
    "print(np1)\n",
    "\n",
    "print(filter)\n",
    "\n",
    "print(np1[filter])"
   ]
  },
  {
   "cell_type": "code",
   "execution_count": null,
   "id": "17bfc225",
   "metadata": {},
   "outputs": [],
   "source": []
  }
 ],
 "metadata": {
  "kernelspec": {
   "display_name": "Python 3 (ipykernel)",
   "language": "python",
   "name": "python3"
  },
  "language_info": {
   "codemirror_mode": {
    "name": "ipython",
    "version": 3
   },
   "file_extension": ".py",
   "mimetype": "text/x-python",
   "name": "python",
   "nbconvert_exporter": "python",
   "pygments_lexer": "ipython3",
   "version": "3.10.6"
  }
 },
 "nbformat": 4,
 "nbformat_minor": 5
}
