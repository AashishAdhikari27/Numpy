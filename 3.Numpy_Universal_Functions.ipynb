{
 "cells": [
  {
   "cell_type": "markdown",
   "id": "a042f5a6",
   "metadata": {},
   "source": [
    "# Numpy Universal functions"
   ]
  },
  {
   "cell_type": "code",
   "execution_count": 1,
   "id": "bb2cb6c1",
   "metadata": {},
   "outputs": [],
   "source": [
    "import numpy as np "
   ]
  },
  {
   "cell_type": "code",
   "execution_count": 6,
   "id": "a167a548",
   "metadata": {},
   "outputs": [
    {
     "name": "stdout",
     "output_type": "stream",
     "text": [
      "[1 2 3 4 5 6 7 8 9]\n"
     ]
    }
   ],
   "source": [
    "np1 = np.array([1,2,3,4,5,6,7,8,9])\n",
    "\n",
    "print(np1)"
   ]
  },
  {
   "cell_type": "code",
   "execution_count": 7,
   "id": "cf4f8cce",
   "metadata": {},
   "outputs": [
    {
     "name": "stdout",
     "output_type": "stream",
     "text": [
      "[1.         1.41421356 1.73205081 2.         2.23606798 2.44948974\n",
      " 2.64575131 2.82842712 3.        ]\n"
     ]
    }
   ],
   "source": [
    "# Square root of each element \n",
    "\n",
    "print(np.sqrt(np1))"
   ]
  },
  {
   "cell_type": "code",
   "execution_count": 9,
   "id": "717cff5e",
   "metadata": {},
   "outputs": [
    {
     "name": "stdout",
     "output_type": "stream",
     "text": [
      "[-1 -2 -3 -4 -5 -6 -7 -8 -9]\n",
      "[1 2 3 4 5 6 7 8 9]\n"
     ]
    }
   ],
   "source": [
    "# Absolute value\n",
    "np2 = np.array([-1,-2,-3,-4,-5,-6,-7,-8,-9])\n",
    "print(np2)\n",
    "print(np.absolute(np1))"
   ]
  },
  {
   "cell_type": "code",
   "execution_count": 10,
   "id": "9b7185f6",
   "metadata": {},
   "outputs": [
    {
     "name": "stdout",
     "output_type": "stream",
     "text": [
      "[2.71828183e+00 7.38905610e+00 2.00855369e+01 5.45981500e+01\n",
      " 1.48413159e+02 4.03428793e+02 1.09663316e+03 2.98095799e+03\n",
      " 8.10308393e+03]\n"
     ]
    }
   ],
   "source": [
    "# Exponnents \n",
    "print(np.exp(np1))"
   ]
  },
  {
   "cell_type": "code",
   "execution_count": 12,
   "id": "14f5bf90",
   "metadata": {},
   "outputs": [
    {
     "name": "stdout",
     "output_type": "stream",
     "text": [
      "1\n",
      "9\n"
     ]
    }
   ],
   "source": [
    "# Min/Max\n",
    "\n",
    "print(np.min(np1))\n",
    "print(np.max(np1))"
   ]
  },
  {
   "cell_type": "code",
   "execution_count": 14,
   "id": "f55ba2dd",
   "metadata": {},
   "outputs": [
    {
     "name": "stdout",
     "output_type": "stream",
     "text": [
      "[1 1 1 1 1 1 1 1 1]\n",
      "[-1 -1 -1 -1 -1 -1 -1 -1 -1]\n"
     ]
    }
   ],
   "source": [
    "# is sign neg or pos\n",
    "print(np.sign(np1)) # returns -1 for negative , 0  for zero and 1 for positive\n",
    "print(np.sign(np2))"
   ]
  },
  {
   "cell_type": "code",
   "execution_count": 15,
   "id": "50652f52",
   "metadata": {},
   "outputs": [
    {
     "name": "stdout",
     "output_type": "stream",
     "text": [
      "[ 0.84147098  0.90929743  0.14112001 -0.7568025  -0.95892427 -0.2794155\n",
      "  0.6569866   0.98935825  0.41211849]\n",
      "[ 0.54030231 -0.41614684 -0.9899925  -0.65364362  0.28366219  0.96017029\n",
      "  0.75390225 -0.14550003 -0.91113026]\n",
      "[ 1.55740772 -2.18503986 -0.14254654  1.15782128 -3.38051501 -0.29100619\n",
      "  0.87144798 -6.79971146 -0.45231566]\n"
     ]
    }
   ],
   "source": [
    "# Trigonometric functions \n",
    "\n",
    "print(np.sin(np1))\n",
    "print(np.cos(np1))\n",
    "print(np.tan(np1))"
   ]
  },
  {
   "cell_type": "code",
   "execution_count": null,
   "id": "564516e8",
   "metadata": {},
   "outputs": [],
   "source": []
  }
 ],
 "metadata": {
  "kernelspec": {
   "display_name": "Python 3 (ipykernel)",
   "language": "python",
   "name": "python3"
  },
  "language_info": {
   "codemirror_mode": {
    "name": "ipython",
    "version": 3
   },
   "file_extension": ".py",
   "mimetype": "text/x-python",
   "name": "python",
   "nbconvert_exporter": "python",
   "pygments_lexer": "ipython3",
   "version": "3.10.6"
  }
 },
 "nbformat": 4,
 "nbformat_minor": 5
}
