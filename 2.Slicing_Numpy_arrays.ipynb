{
 "cells": [
  {
   "cell_type": "code",
   "execution_count": 1,
   "id": "f50e2ca1",
   "metadata": {},
   "outputs": [],
   "source": [
    "import numpy as np"
   ]
  },
  {
   "cell_type": "markdown",
   "id": "ffc4ab67",
   "metadata": {},
   "source": [
    "# Slicing Numpy Arrays"
   ]
  },
  {
   "cell_type": "code",
   "execution_count": 4,
   "id": "123540ee",
   "metadata": {},
   "outputs": [
    {
     "name": "stdout",
     "output_type": "stream",
     "text": [
      "[2 3 4 5]\n",
      "[4 5 6 7 8 9]\n"
     ]
    }
   ],
   "source": [
    "np1 = np.array([1,2,3,4,5,6,7,8,9])\n",
    "\n",
    "# To return 2,3,4,5\n",
    "\n",
    "print(np1[1:5])\n",
    "\n",
    "print(np1[3:]) # returns from third indexed number till the end"
   ]
  },
  {
   "cell_type": "markdown",
   "id": "583c2a34",
   "metadata": {},
   "source": [
    "# Negative slicing"
   ]
  },
  {
   "cell_type": "code",
   "execution_count": 8,
   "id": "cb92c29f",
   "metadata": {},
   "outputs": [
    {
     "name": "stdout",
     "output_type": "stream",
     "text": [
      "[3 4 5 6 7 8]\n"
     ]
    }
   ],
   "source": [
    "print(np1[-7:-1])"
   ]
  },
  {
   "cell_type": "code",
   "execution_count": 11,
   "id": "62f75c31",
   "metadata": {},
   "outputs": [
    {
     "name": "stdout",
     "output_type": "stream",
     "text": [
      "[2 4 6]\n",
      "[1 3 5 7 9]\n",
      "[1 4 7]\n"
     ]
    }
   ],
   "source": [
    "#steps\n",
    "    \n",
    "print(np1[1:7:2])\n",
    "\n",
    "# steps in entire array\n",
    "\n",
    "print(np1[::2])\n",
    "print(np1[::3])"
   ]
  },
  {
   "cell_type": "markdown",
   "id": "8dc2a1a4",
   "metadata": {},
   "source": [
    "# Slicing 2d array"
   ]
  },
  {
   "cell_type": "code",
   "execution_count": 21,
   "id": "a46b2c3b",
   "metadata": {},
   "outputs": [
    {
     "name": "stdout",
     "output_type": "stream",
     "text": [
      "8\n",
      "[[3 4]]\n",
      "[[2 3 4]\n",
      " [7 8 9]]\n"
     ]
    }
   ],
   "source": [
    "np2 = np.array([[1,2,3,4,5],[6,7,8,9,10]])\n",
    "\n",
    "# pulling a single item\n",
    "\n",
    "print(np2[1,2])\n",
    "\n",
    "print(np2[0:1,2:4])  # prints 3,4\n",
    "\n",
    "print(np2[:,1:4]) # prints [2,3,4] [7,8,9]"
   ]
  },
  {
   "cell_type": "code",
   "execution_count": null,
   "id": "9707e3ed",
   "metadata": {},
   "outputs": [],
   "source": []
  }
 ],
 "metadata": {
  "kernelspec": {
   "display_name": "Python 3 (ipykernel)",
   "language": "python",
   "name": "python3"
  },
  "language_info": {
   "codemirror_mode": {
    "name": "ipython",
    "version": 3
   },
   "file_extension": ".py",
   "mimetype": "text/x-python",
   "name": "python",
   "nbconvert_exporter": "python",
   "pygments_lexer": "ipython3",
   "version": "3.10.6"
  }
 },
 "nbformat": 4,
 "nbformat_minor": 5
}
