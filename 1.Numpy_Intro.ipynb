{
 "cells": [
  {
   "cell_type": "code",
   "execution_count": 11,
   "id": "8f1133ff",
   "metadata": {},
   "outputs": [
    {
     "name": "stdout",
     "output_type": "stream",
     "text": [
      "[1, 2, 3, 4, 5]\n",
      "['Adhir1', 88, [1, 2, 3, 4, 5], True]\n"
     ]
    }
   ],
   "source": [
    "list1 = [1,2,3,4,5] \n",
    "\n",
    "print(list1)\n",
    "\n",
    "list2 = [\"Adhir1\",88,list1,True]\n",
    "print(list2)"
   ]
  },
  {
   "cell_type": "code",
   "execution_count": 18,
   "id": "894054f0",
   "metadata": {},
   "outputs": [],
   "source": [
    "import numpy as np"
   ]
  },
  {
   "cell_type": "markdown",
   "id": "064bf5e7",
   "metadata": {},
   "source": [
    "# NUMPY = Numeric python\n",
    "data type of numpy is ndarray (i.e  n-dimensional array)"
   ]
  },
  {
   "cell_type": "code",
   "execution_count": 27,
   "id": "8393e917",
   "metadata": {},
   "outputs": [
    {
     "name": "stdout",
     "output_type": "stream",
     "text": [
      "[0 1 2 3 4 5 6 7 8 9]\n",
      "(10,)\n"
     ]
    }
   ],
   "source": [
    "np1 = np.array([0,1,2,3,4,5,6,7,8,9])\n",
    "print(np1)\n",
    "print(np1.shape ) # this gives the number of items in array  "
   ]
  },
  {
   "cell_type": "markdown",
   "id": "b22ba68b",
   "metadata": {},
   "source": [
    "# nparray with Range\n",
    "\n"
   ]
  },
  {
   "cell_type": "code",
   "execution_count": 32,
   "id": "fe8f9973",
   "metadata": {},
   "outputs": [
    {
     "name": "stdout",
     "output_type": "stream",
     "text": [
      "[0 1 2 3 4 5 6 7 8 9]\n"
     ]
    }
   ],
   "source": [
    "np2= np.arange(10)\n",
    "print(np2)\n",
    "\n"
   ]
  },
  {
   "cell_type": "markdown",
   "id": "f5117083",
   "metadata": {},
   "source": [
    "\n",
    "# Range with step\n"
   ]
  },
  {
   "cell_type": "code",
   "execution_count": 35,
   "id": "ea78a726",
   "metadata": {},
   "outputs": [
    {
     "name": "stdout",
     "output_type": "stream",
     "text": [
      "[0 2 4 6 8]\n"
     ]
    }
   ],
   "source": [
    "np3 = np.arange(0,10,2)\n",
    "print(np3)"
   ]
  },
  {
   "cell_type": "markdown",
   "id": "e95b1b6b",
   "metadata": {},
   "source": [
    "# array of zeros\n"
   ]
  },
  {
   "cell_type": "code",
   "execution_count": 36,
   "id": "ad12d345",
   "metadata": {},
   "outputs": [
    {
     "name": "stdout",
     "output_type": "stream",
     "text": [
      "[0. 0. 0. 0. 0. 0. 0. 0. 0. 0.]\n"
     ]
    }
   ],
   "source": [
    "np4 = np.zeros(10)\n",
    "print(np4)"
   ]
  },
  {
   "cell_type": "markdown",
   "id": "e82c65dd",
   "metadata": {},
   "source": [
    "# Multidimensional Zeros"
   ]
  },
  {
   "cell_type": "code",
   "execution_count": 37,
   "id": "ac959e52",
   "metadata": {},
   "outputs": [
    {
     "name": "stdout",
     "output_type": "stream",
     "text": [
      "[[0. 0. 0. 0. 0. 0. 0. 0. 0. 0.]\n",
      " [0. 0. 0. 0. 0. 0. 0. 0. 0. 0.]]\n"
     ]
    }
   ],
   "source": [
    "np5 = np.zeros((2,10))\n",
    "print(np5)"
   ]
  },
  {
   "cell_type": "code",
   "execution_count": 41,
   "id": "3391fad1",
   "metadata": {},
   "outputs": [
    {
     "name": "stdout",
     "output_type": "stream",
     "text": [
      "[9 9 9 9 9 9 9 9 9 9]\n",
      "[[7 7 7 7 7 7 7 7 7 7]\n",
      " [7 7 7 7 7 7 7 7 7 7]]\n"
     ]
    }
   ],
   "source": [
    "np6 = np.full((10),9)#full is used for getting the array of any number we want instead of zeros \n",
    "print(np6)\n",
    "\n",
    "# Multidimensional full\n",
    "\n",
    "np7 = np.full((2,10),7)\n",
    "print(np7)"
   ]
  },
  {
   "cell_type": "markdown",
   "id": "d1dea91f",
   "metadata": {},
   "source": [
    "# Converting python list to numpy array"
   ]
  },
  {
   "cell_type": "code",
   "execution_count": 42,
   "id": "6d96163e",
   "metadata": {},
   "outputs": [
    {
     "name": "stdout",
     "output_type": "stream",
     "text": [
      "[1 2 3 4 5]\n"
     ]
    }
   ],
   "source": [
    "my_list = [1,2,3,4,5]\n",
    "np8 = np.array(my_list)\n",
    "print(np8)"
   ]
  },
  {
   "cell_type": "code",
   "execution_count": null,
   "id": "767108d4",
   "metadata": {},
   "outputs": [],
   "source": []
  }
 ],
 "metadata": {
  "kernelspec": {
   "display_name": "Python 3 (ipykernel)",
   "language": "python",
   "name": "python3"
  },
  "language_info": {
   "codemirror_mode": {
    "name": "ipython",
    "version": 3
   },
   "file_extension": ".py",
   "mimetype": "text/x-python",
   "name": "python",
   "nbconvert_exporter": "python",
   "pygments_lexer": "ipython3",
   "version": "3.10.6"
  }
 },
 "nbformat": 4,
 "nbformat_minor": 5
}
