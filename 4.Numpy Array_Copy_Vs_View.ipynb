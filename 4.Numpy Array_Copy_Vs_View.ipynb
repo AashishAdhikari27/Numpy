{
 "cells": [
  {
   "cell_type": "markdown",
   "id": "e195d9d6",
   "metadata": {},
   "source": [
    "# Copy vs View"
   ]
  },
  {
   "cell_type": "code",
   "execution_count": 2,
   "id": "1831ea77",
   "metadata": {},
   "outputs": [],
   "source": [
    "import numpy as np\n"
   ]
  },
  {
   "cell_type": "code",
   "execution_count": 21,
   "id": "62890183",
   "metadata": {},
   "outputs": [],
   "source": [
    "np1 = np.array([0,1,2,3,4,5])\n",
    "\n",
    "# create a view \n",
    "\n",
    "np2 = np1.view()\n",
    "\n",
    "#print(f'original np1 {np1}')\n",
    "#print(f'original np2 {np2}')\n",
    "\n",
    "# np1[1]=56\n",
    "\n",
    "\n",
    "#print(f'Changed np1 {np1}')\n",
    "#print(f'original np2{ np2}')\n"
   ]
  },
  {
   "cell_type": "code",
   "execution_count": 22,
   "id": "ae812dc1",
   "metadata": {},
   "outputs": [
    {
     "name": "stdout",
     "output_type": "stream",
     "text": [
      "original np1 [ 0  1 99  3  4  5]\n",
      "original np2 [ 0  1 99  3  4  5]\n"
     ]
    }
   ],
   "source": [
    "np2[2]=99 # changing viewed array also changes the original array\n",
    "print(f'original np1 {np1}')\n",
    "print(f'original np2 {np2}')\n"
   ]
  },
  {
   "cell_type": "code",
   "execution_count": 18,
   "id": "6a33d9d1",
   "metadata": {},
   "outputs": [
    {
     "name": "stdout",
     "output_type": "stream",
     "text": [
      "original np1 [0 1 2 3 4 5]\n",
      "original np2 [0 1 2 3 4 5]\n",
      "Changed np1 [0 1 2 3 4 5]\n",
      "original np2 [0 1 2 3 4 5]\n"
     ]
    }
   ],
   "source": [
    "'''# Creating a copy\n",
    "\n",
    "np2 = np1.copy()\n",
    "\n",
    "print(f'original np1 {np1}')\n",
    "print(f'original np2 {np2}')\n",
    "\n",
    "# np1[1]=56\n",
    "\n",
    "\n",
    "print(f'Changed np1 {np1}')\n",
    "print(f'original np2 { np2}')\n",
    "'''\n"
   ]
  },
  {
   "cell_type": "code",
   "execution_count": 19,
   "id": "47830a6f",
   "metadata": {},
   "outputs": [
    {
     "name": "stdout",
     "output_type": "stream",
     "text": [
      "Changed np1 [0 1 2 3 4 5]\n",
      "original np2 [ 0  1 56  3  4  5]\n"
     ]
    }
   ],
   "source": [
    "'''\n",
    "np2[2]=56\n",
    "\n",
    "\n",
    "print(f'Changed np1 {np1}')\n",
    "print(f'original np2 { np2}')\n",
    "'''"
   ]
  },
  {
   "cell_type": "code",
   "execution_count": null,
   "id": "1ed30da5",
   "metadata": {},
   "outputs": [],
   "source": []
  }
 ],
 "metadata": {
  "kernelspec": {
   "display_name": "Python 3 (ipykernel)",
   "language": "python",
   "name": "python3"
  },
  "language_info": {
   "codemirror_mode": {
    "name": "ipython",
    "version": 3
   },
   "file_extension": ".py",
   "mimetype": "text/x-python",
   "name": "python",
   "nbconvert_exporter": "python",
   "pygments_lexer": "ipython3",
   "version": "3.10.6"
  }
 },
 "nbformat": 4,
 "nbformat_minor": 5
}
