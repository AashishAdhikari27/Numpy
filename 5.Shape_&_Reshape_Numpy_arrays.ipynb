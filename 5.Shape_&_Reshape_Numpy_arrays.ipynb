{
 "cells": [
  {
   "cell_type": "markdown",
   "id": "7c76a76b",
   "metadata": {},
   "source": [
    "\n",
    "#  Shape  and Reshape"
   ]
  },
  {
   "cell_type": "code",
   "execution_count": 1,
   "id": "8522066d",
   "metadata": {},
   "outputs": [],
   "source": [
    "import numpy as np "
   ]
  },
  {
   "cell_type": "code",
   "execution_count": 9,
   "id": "02df2211",
   "metadata": {},
   "outputs": [
    {
     "name": "stdout",
     "output_type": "stream",
     "text": [
      "[ 1  2  3  4  5  6  7  8  9 10 11 12]\n",
      "(12,)\n"
     ]
    }
   ],
   "source": [
    "# creating 1-D array and get shape \n",
    "\n",
    "np1 = np.array([1,2,3,4,5,6,7,8,9,10,11,12])\n",
    "\n",
    "print(np1)\n",
    "\n",
    "print(np1.shape)"
   ]
  },
  {
   "cell_type": "code",
   "execution_count": 6,
   "id": "c01afd81",
   "metadata": {},
   "outputs": [
    {
     "name": "stdout",
     "output_type": "stream",
     "text": [
      "[[ 1  2  3  4  5  6]\n",
      " [ 7  8  9 10 11 12]]\n",
      "(2, 6)\n"
     ]
    }
   ],
   "source": [
    "'''\n",
    "# creating 2-D array and get shape \n",
    "\n",
    "np2 = np.array([[1,2,3,4,5,6],[7,8,9,10,11,12]])\n",
    "\n",
    "\n",
    "print(np2)\n",
    "\n",
    "print(np2.shape)\n",
    "'''"
   ]
  },
  {
   "cell_type": "code",
   "execution_count": 10,
   "id": "9779069f",
   "metadata": {},
   "outputs": [
    {
     "name": "stdout",
     "output_type": "stream",
     "text": [
      "[[ 1  2  3  4]\n",
      " [ 5  6  7  8]\n",
      " [ 9 10 11 12]]\n",
      "(3, 4)\n"
     ]
    }
   ],
   "source": [
    "'''# Reshaping into 2-D array\n",
    "\n",
    "np3 = np1.reshape(3,4)\n",
    "\n",
    "print(np3)\n",
    "\n",
    "print(np3.shape)\n",
    "'''"
   ]
  },
  {
   "cell_type": "code",
   "execution_count": 12,
   "id": "8bc77d09",
   "metadata": {},
   "outputs": [
    {
     "name": "stdout",
     "output_type": "stream",
     "text": [
      "[[[ 1  2]\n",
      "  [ 3  4]\n",
      "  [ 5  6]]\n",
      "\n",
      " [[ 7  8]\n",
      "  [ 9 10]\n",
      "  [11 12]]]\n",
      "(2, 3, 2)\n"
     ]
    }
   ],
   "source": [
    "#  Reshaping into 3-D array\n",
    "\n",
    "np4 = np1.reshape(2,3,2)\n",
    "\n",
    "print(np4)\n",
    "\n",
    "print(np4.shape)\n"
   ]
  },
  {
   "cell_type": "code",
   "execution_count": 13,
   "id": "7f28a671",
   "metadata": {},
   "outputs": [
    {
     "name": "stdout",
     "output_type": "stream",
     "text": [
      "[ 1  2  3  4  5  6  7  8  9 10 11 12]\n",
      "(12,)\n"
     ]
    }
   ],
   "source": [
    "# Flatten to 1-D array\n",
    "np5 = np4.reshape(-1)\n",
    "\n",
    "print(np5)\n",
    "\n",
    "print(np5.shape)\n"
   ]
  },
  {
   "cell_type": "code",
   "execution_count": null,
   "id": "71e6f78e",
   "metadata": {},
   "outputs": [],
   "source": []
  }
 ],
 "metadata": {
  "kernelspec": {
   "display_name": "Python 3 (ipykernel)",
   "language": "python",
   "name": "python3"
  },
  "language_info": {
   "codemirror_mode": {
    "name": "ipython",
    "version": 3
   },
   "file_extension": ".py",
   "mimetype": "text/x-python",
   "name": "python",
   "nbconvert_exporter": "python",
   "pygments_lexer": "ipython3",
   "version": "3.10.6"
  }
 },
 "nbformat": 4,
 "nbformat_minor": 5
}
